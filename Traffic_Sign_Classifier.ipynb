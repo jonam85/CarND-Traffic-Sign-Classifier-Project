{
 "cells": [
  {
   "cell_type": "markdown",
   "metadata": {},
   "source": [
    "# Self-Driving Car Engineer Nanodegree\n",
    "\n",
    "## Deep Learning\n",
    "\n",
    "## Project: Build a Traffic Sign Recognition Classifier\n",
    "\n",
    "In this notebook, a template is provided for you to implement your functionality in stages, which is required to successfully complete this project. If additional code is required that cannot be included in the notebook, be sure that the Python code is successfully imported and included in your submission if necessary. \n",
    "\n",
    "> **Note**: Once you have completed all of the code implementations, you need to finalize your work by exporting the iPython Notebook as an HTML document. Before exporting the notebook to html, all of the code cells need to have been run so that reviewers can see the final implementation and output. You can then export the notebook by using the menu above and navigating to  \\n\",\n",
    "    \"**File -> Download as -> HTML (.html)**. Include the finished document along with this notebook as your submission. \n",
    "\n",
    "In addition to implementing code, there is a writeup to complete. The writeup should be completed in a separate file, which can be either a markdown file or a pdf document. There is a [write up template](https://github.com/udacity/CarND-Traffic-Sign-Classifier-Project/blob/master/writeup_template.md) that can be used to guide the writing process. Completing the code template and writeup template will cover all of the [rubric points](https://review.udacity.com/#!/rubrics/481/view) for this project.\n",
    "\n",
    "The [rubric](https://review.udacity.com/#!/rubrics/481/view) contains \"Stand Out Suggestions\" for enhancing the project beyond the minimum requirements. The stand out suggestions are optional. If you decide to pursue the \"stand out suggestions\", you can include the code in this Ipython notebook and also discuss the results in the writeup file.\n",
    "\n",
    "\n",
    ">**Note:** Code and Markdown cells can be executed using the **Shift + Enter** keyboard shortcut. In addition, Markdown cells can be edited by typically double-clicking the cell to enter edit mode."
   ]
  },
  {
   "cell_type": "markdown",
   "metadata": {},
   "source": [
    "---\n",
    "## Step 0: Load The Data"
   ]
  },
  {
   "cell_type": "code",
   "execution_count": 1,
   "metadata": {
    "collapsed": true
   },
   "outputs": [],
   "source": [
    "# All imports\n",
    "import pickle\n",
    "import numpy as np\n"
   ]
  },
  {
   "cell_type": "code",
   "execution_count": 2,
   "metadata": {},
   "outputs": [
    {
     "name": "stdout",
     "output_type": "stream",
     "text": [
      "Training Set shape:   X:(34799, 32, 32, 3) , Y:(34799,)\n",
      "Validation Set shape: X:(4410, 32, 32, 3) , Y:(4410,)\n",
      "Test Set shape:       X:(12630, 32, 32, 3) , Y:(12630,)\n"
     ]
    }
   ],
   "source": [
    "# Load pickled data\n",
    "\n",
    "def Load_Data_From_File(pickle_file):\n",
    "    with open(pickle_file, mode='rb') as f:\n",
    "        data = pickle.load(f)\n",
    "    features, labels = np.array(data['features']), np.array(data['labels'])\n",
    "    return features, labels\n",
    "\n",
    "training_file = \"train.p\"\n",
    "validation_file= \"valid.p\"\n",
    "testing_file = \"test.p\"\n",
    "\n",
    "# with open(training_file, mode='rb') as f:\n",
    "#     train = pickle.load(f)\n",
    "# with open(validation_file, mode='rb') as f:\n",
    "#     valid = pickle.load(f)\n",
    "# with open(testing_file, mode='rb') as f:\n",
    "#     test = pickle.load(f)\n",
    "    \n",
    "# X_train, y_train = np.array(train['features']), np.array(train['labels'])\n",
    "# X_valid, y_valid = np.array(valid['features']), np.array(valid['labels'])\n",
    "# X_test, y_test = np.array(test['features']), np.array(test['labels'])\n",
    "\n",
    "X_train, y_train = Load_Data_From_File(training_file)\n",
    "X_valid, y_valid = Load_Data_From_File(validation_file)\n",
    "X_test, y_test = Load_Data_From_File(testing_file)\n",
    "\n",
    "#size = valid['sizes']\n",
    "#coords = valid['coords']\n",
    "# print(size[40])\n",
    "# print(coords[40])\n",
    "\n",
    "print(\"Training Set shape:   X:{} , Y:{}\".format(X_train.shape,y_train.shape))\n",
    "print(\"Validation Set shape: X:{} , Y:{}\".format(X_valid.shape,y_valid.shape))\n",
    "print(\"Test Set shape:       X:{} , Y:{}\".format(X_test.shape,y_test.shape))\n",
    "\n"
   ]
  },
  {
   "cell_type": "markdown",
   "metadata": {},
   "source": [
    "---\n",
    "\n",
    "## Step 1: Dataset Summary & Exploration\n",
    "\n",
    "The pickled data is a dictionary with 4 key/value pairs:\n",
    "\n",
    "- `'features'` is a 4D array containing raw pixel data of the traffic sign images, (num examples, width, height, channels).\n",
    "- `'labels'` is a 1D array containing the label/class id of the traffic sign. The file `signnames.csv` contains id -> name mappings for each id.\n",
    "- `'sizes'` is a list containing tuples, (width, height) representing the original width and height the image.\n",
    "- `'coords'` is a list containing tuples, (x1, y1, x2, y2) representing coordinates of a bounding box around the sign in the image. **THESE COORDINATES ASSUME THE ORIGINAL IMAGE. THE PICKLED DATA CONTAINS RESIZED VERSIONS (32 by 32) OF THESE IMAGES**\n",
    "\n",
    "Complete the basic data summary below. Use python, numpy and/or pandas methods to calculate the data summary rather than hard coding the results. For example, the [pandas shape method](http://pandas.pydata.org/pandas-docs/stable/generated/pandas.DataFrame.shape.html) might be useful for calculating some of the summary results. "
   ]
  },
  {
   "cell_type": "markdown",
   "metadata": {},
   "source": [
    "### Provide a Basic Summary of the Data Set Using Python, Numpy and/or Pandas"
   ]
  },
  {
   "cell_type": "code",
   "execution_count": 3,
   "metadata": {},
   "outputs": [
    {
     "name": "stdout",
     "output_type": "stream",
     "text": [
      "Number of training examples = 34799\n",
      "Number of validation examples = 4410\n",
      "Number of testing examples = 12630\n",
      "Image data shape = (32, 32, 3)\n",
      "Number of classes = 43\n"
     ]
    }
   ],
   "source": [
    "### Replace each question mark with the appropriate value. \n",
    "### Use python, pandas or numpy methods rather than hard coding the results\n",
    "\n",
    "# TODO: Number of training examples\n",
    "n_train = len(X_train)\n",
    "\n",
    "# TODO: Number of validation examples\n",
    "n_validation = len(X_valid)\n",
    "\n",
    "# TODO: Number of testing examples.\n",
    "n_test = len(X_test)\n",
    "\n",
    "# TODO: What's the shape of an traffic sign image?\n",
    "image_shape = X_train[0].shape\n",
    "\n",
    "# TODO: How many unique classes/labels there are in the dataset.\n",
    "n_classes = len(list(set(y_train)))\n",
    "\n",
    "print(\"Number of training examples =\", n_train)\n",
    "print(\"Number of validation examples =\", n_validation)\n",
    "print(\"Number of testing examples =\", n_test)\n",
    "print(\"Image data shape =\", image_shape)\n",
    "print(\"Number of classes =\", n_classes)\n",
    "\n"
   ]
  },
  {
   "cell_type": "markdown",
   "metadata": {},
   "source": [
    "### Include an exploratory visualization of the dataset"
   ]
  },
  {
   "cell_type": "markdown",
   "metadata": {},
   "source": [
    "Visualize the German Traffic Signs Dataset using the pickled file(s). This is open ended, suggestions include: plotting traffic sign images, plotting the count of each sign, etc. \n",
    "\n",
    "The [Matplotlib](http://matplotlib.org/) [examples](http://matplotlib.org/examples/index.html) and [gallery](http://matplotlib.org/gallery.html) pages are a great resource for doing visualizations in Python.\n",
    "\n",
    "**NOTE:** It's recommended you start with something simple first. If you wish to do more, come back to it after you've completed the rest of the sections. It can be interesting to look at the distribution of classes in the training, validation and test set. Is the distribution the same? Are there more examples of some classes than others?"
   ]
  },
  {
   "cell_type": "code",
   "execution_count": 4,
   "metadata": {
    "collapsed": true
   },
   "outputs": [],
   "source": [
    "### Data exploration visualization code goes here.\n",
    "### Feel free to use as many code cells as needed.\n",
    "import matplotlib.pyplot as plt\n",
    "# Visualizations will be shown in the notebook.\n",
    "%matplotlib inline"
   ]
  },
  {
   "cell_type": "code",
   "execution_count": 5,
   "metadata": {
    "collapsed": true
   },
   "outputs": [],
   "source": [
    "import csv\n",
    "import random\n",
    "import cv2"
   ]
  },
  {
   "cell_type": "code",
   "execution_count": 6,
   "metadata": {},
   "outputs": [
    {
     "name": "stdout",
     "output_type": "stream",
     "text": [
      "['0', '1', '2', '3', '4', '5', '6', '7', '8', '9', '10', '11', '12', '13', '14', '15', '16', '17', '18', '19', '20', '21', '22', '23', '24', '25', '26', '27', '28', '29', '30', '31', '32', '33', '34', '35', '36', '37', '38', '39', '40', '41', '42']\n",
      "['Speed limit (20km/h)', 'Speed limit (30km/h)', 'Speed limit (50km/h)', 'Speed limit (60km/h)', 'Speed limit (70km/h)', 'Speed limit (80km/h)', 'End of speed limit (80km/h)', 'Speed limit (100km/h)', 'Speed limit (120km/h)', 'No passing', 'No passing for vehicles over 3.5 metric tons', 'Right-of-way at the next intersection', 'Priority road', 'Yield', 'Stop', 'No vehicles', 'Vehicles over 3.5 metric tons prohibited', 'No entry', 'General caution', 'Dangerous curve to the left', 'Dangerous curve to the right', 'Double curve', 'Bumpy road', 'Slippery road', 'Road narrows on the right', 'Road work', 'Traffic signals', 'Pedestrians', 'Children crossing', 'Bicycles crossing', 'Beware of ice/snow', 'Wild animals crossing', 'End of all speed and passing limits', 'Turn right ahead', 'Turn left ahead', 'Ahead only', 'Go straight or right', 'Go straight or left', 'Keep right', 'Keep left', 'Roundabout mandatory', 'End of no passing', 'End of no passing by vehicles over 3.5 metric tons']\n"
     ]
    }
   ],
   "source": [
    "#Get the Sign Names Text for each Sign Class IDs from .csv file\n",
    "ClassIDs = []\n",
    "SignNames = []\n",
    "\n",
    "#Using csv reader to read the csvfile\n",
    "with open('signnames.csv') as csvfile:\n",
    "    readCSV = csv.DictReader(csvfile, delimiter=',')\n",
    "   \n",
    "    for row in readCSV:\n",
    "        ClassID = row['ClassId']\n",
    "        SignName = row['SignName']\n",
    "        ClassIDs.append(ClassID)\n",
    "        SignNames.append(SignName)\n",
    "\n",
    "print(ClassIDs)\n",
    "print(SignNames)"
   ]
  },
  {
   "cell_type": "code",
   "execution_count": null,
   "metadata": {
    "collapsed": true
   },
   "outputs": [],
   "source": [
    "# Plotting figures from all classes\n",
    "fig = plt.figure(figsize=(15,44))\n",
    "columns = 10\n",
    "#for j in range(n_classes):\n",
    "count = 0\n",
    "    # plt.figure()\n",
    "\n",
    "for j in range(n_classes):\n",
    "    count += 1\n",
    "    plt.subplot(n_classes, columns+3, count)\n",
    "    plt.axis('off')\n",
    "    plt.text(0, 0.5, SignNames[j], va='center', wrap=True)\n",
    "    count += 2\n",
    "    for i in range(columns):\n",
    "        index = random.randint(0, len(X_train)-1)  \n",
    "        while(y_train[index] != j):\n",
    "            index = random.randint(0, len(X_train)-1)\n",
    "        \n",
    "        image = X_train[index].squeeze()\n",
    "        count += 1\n",
    "\n",
    "        splt = plt.subplot(n_classes, columns+3, count)\n",
    "        plt.axis('off')\n",
    "        #fig.tight_layout()\n",
    "        splt.imshow(image)\n",
    "\n",
    "plt.savefig(\"SignalList.png\", bbox_inches='tight')\n",
    "plt.show()"
   ]
  },
  {
   "cell_type": "code",
   "execution_count": null,
   "metadata": {
    "collapsed": true
   },
   "outputs": [],
   "source": []
  },
  {
   "cell_type": "code",
   "execution_count": null,
   "metadata": {
    "collapsed": true
   },
   "outputs": [],
   "source": [
    "#Plot a histogram figure\n",
    "plt.figure(figsize=(15,3))\n",
    "bins = np.arange(n_classes+1) - 0.5\n",
    "# the histogram of the data\n",
    "plt.hist([y_train,y_test,y_valid], bins, rwidth = 0.8, color = ['g','orange','r'], alpha = 0.6, label=['Train Data', 'Test Data', 'Validation Data'])\n",
    "plt.legend()\n",
    "plt.xticks(range(n_classes),SignNames,rotation='vertical')\n",
    "plt.xlabel('Class IDs')\n",
    "plt.ylabel('Number of samples')\n",
    "plt.title(r'Histogram of Training set')\n",
    "plt.savefig(\"Histogram.png\", bbox_inches='tight')\n",
    "plt.show()\n"
   ]
  },
  {
   "cell_type": "code",
   "execution_count": null,
   "metadata": {
    "collapsed": true
   },
   "outputs": [],
   "source": []
  },
  {
   "cell_type": "code",
   "execution_count": null,
   "metadata": {
    "collapsed": true
   },
   "outputs": [],
   "source": []
  },
  {
   "cell_type": "markdown",
   "metadata": {},
   "source": [
    "The below set of functions allow to manipulate the existing train data to add more samples by augmention process which includes, scaling, rotating, shearing, translating and adjusting brightness of the images."
   ]
  },
  {
   "cell_type": "code",
   "execution_count": 7,
   "metadata": {
    "collapsed": true
   },
   "outputs": [],
   "source": [
    "from skimage import data, exposure\n",
    "from skimage.transform import warp, AffineTransform\n",
    "\n",
    "# Perform Image transformation using random parameters in Affine Transform\n",
    "def transform_image(image):\n",
    "    X_Scale_Rand = random.uniform(0.8, 1.1)\n",
    "    Y_Scale_Rand = random.uniform(0.8, 1.1)\n",
    "    X_Trans_Rand = random.randint(-3, 3)\n",
    "    Y_Trans_Rand = random.randint(-3, 3)\n",
    "    Rot_Rand = random.uniform(-0.1, 0.1)\n",
    "    Shr_Rand = random.uniform(-0.05, 0.05)\n",
    "    \n",
    "    shape = image.shape\n",
    "#     print(X_Scale_Rand)\n",
    "#     print(Y_Scale_Rand)\n",
    "#     print(X_Trans_Rand)\n",
    "#     print(Y_Trans_Rand)\n",
    "#     print(Rot_Rand)\n",
    "#     print(Shr_Rand)\n",
    "    tform = AffineTransform(scale=(X_Scale_Rand, Y_Scale_Rand), rotation=Rot_Rand, shear=Shr_Rand,\n",
    "                        translation=(X_Trans_Rand, Y_Trans_Rand))\n",
    "    image = warp(image, tform, output_shape=(shape[0], shape[1]))\n",
    "#     print(image.shape)\n",
    "    return image\n",
    "\n",
    "# Augment image by making Transform and Adjust the brightness \n",
    "def Augment_image(image):\n",
    "    image = transform_image(image)\n",
    "    Gamma_Rand = random.uniform(0.2, 1.8)\n",
    "#    print(Gamma_Rand)\n",
    "    image = exposure.adjust_gamma(image, Gamma_Rand)\n",
    "    return image\n",
    "\n"
   ]
  },
  {
   "cell_type": "code",
   "execution_count": null,
   "metadata": {
    "collapsed": true,
    "scrolled": true
   },
   "outputs": [],
   "source": []
  },
  {
   "cell_type": "code",
   "execution_count": 8,
   "metadata": {
    "scrolled": false
   },
   "outputs": [
    {
     "data": {
      "image/png": "[encoded data removed]",
      "text/plain": [
       "<matplotlib.figure.Figure at 0x7fa3787eacf8>"
      ]
     },
     "metadata": {},
     "output_type": "display_data"
    },
    {
     "name": "stdout",
     "output_type": "stream",
     "text": [
      "[  180.  1980.  2010.  1260.  1770.  1650.   360.  1290.  1260.  1320.\n",
      "  1800.  1170.  1890.  1920.   690.   540.   360.   990.  1080.   180.\n",
      "   300.   270.   330.   450.   240.  1350.   540.   210.   480.   240.\n",
      "   390.   690.   210.   599.   360.  1080.   330.   180.  1860.   270.\n",
      "   300.   210.   210.]\n"
     ]
    }
   ],
   "source": [
    "#Function to Plot Histogram from provided data\n",
    "def Plot_Histogram(data, n_classes, filename):\n",
    "    plt.figure(figsize=(15,3))\n",
    "    bins = np.arange(n_classes+1) - 0.5\n",
    "    # the histogram of the data\n",
    "    n,bins,patches = plt.hist([data], bins, rwidth = 0.8, color = ['g'], alpha = 0.6, label=['Data'])\n",
    "    plt.legend()\n",
    "    plt.xticks(range(n_classes),SignNames,rotation='vertical')\n",
    "    plt.xlabel('Class IDs')\n",
    "    plt.ylabel('Number of samples')\n",
    "    plt.title(r'Histogram of Data set')\n",
    "\n",
    "    # Tweak spacing to prevent clipping of ylabel\n",
    "    #fig.tight_layout()\n",
    "    plt.savefig(filename, bbox_inches='tight')\n",
    "    plt.show()\n",
    "    return n\n",
    "\n",
    "#Plot the Test Set Histogram\n",
    "Train_Class_counts = Plot_Histogram(y_train, n_classes, \"Histogram_Test.png\")\n",
    "print(Train_Class_counts)"
   ]
  },
  {
   "cell_type": "code",
   "execution_count": 9,
   "metadata": {
    "collapsed": true
   },
   "outputs": [],
   "source": [
    "# Placeholders for features and labels for Augmented data\n",
    "train_features = []\n",
    "train_labels = []\n"
   ]
  },
  {
   "cell_type": "code",
   "execution_count": 10,
   "metadata": {
    "collapsed": true
   },
   "outputs": [],
   "source": [
    "def Create_Augmented_Data(Train_Data, Label_Data, Num_Classes, Num_Samples):\n",
    "    for j in range(Num_Classes):\n",
    "        Required_Classes = Num_Samples - Train_Class_counts[j]\n",
    "        for i in range(int(Required_Classes)):\n",
    "            index = random.randint(0, len(Train_Data)-1)  \n",
    "            while(Label_Data[index] != j):\n",
    "                index = random.randint(0, len(Train_Data)-1)\n",
    "\n",
    "            image = Train_Data[index].squeeze()\n",
    "            image = Augment_image(image)\n",
    "            feature = np.array(image)\n",
    "            train_features.append(feature)\n",
    "            train_labels.append(Label_Data[index])"
   ]
  },
  {
   "cell_type": "code",
   "execution_count": 11,
   "metadata": {},
   "outputs": [
    {
     "name": "stdout",
     "output_type": "stream",
     "text": [
      "X_train Shape =  (34799, 32, 32, 3)\n",
      "y_train Shape =  (34799,)\n",
      "Aug_X_train Shape =  (72701, 32, 32, 3)\n",
      "Aug_y_train Shape =  (72701,)\n",
      "Total_X_train Shape =  (107500, 32, 32, 3)\n",
      "Total_y_train Shape =  (107500,)\n"
     ]
    }
   ],
   "source": [
    "print(\"X_train Shape = \", X_train.shape)\n",
    "print(\"y_train Shape = \", y_train.shape)\n",
    "\n",
    "# Create Num_Samples number of samples minimum for each class with augmentation\n",
    "Num_Samples = 2500\n",
    "Num_Classes = len(list(set(y_train)))\n",
    "\n",
    "Create_Augmented_Data(X_train, y_train, Num_Classes, Num_Samples )\n",
    "\n",
    "train_features = np.array(train_features)\n",
    "train_labels = np.array(train_labels)\n",
    "\n",
    "print(\"Aug_X_train Shape = \", train_features.shape)\n",
    "print(\"Aug_y_train Shape = \", train_labels.shape)\n",
    "\n",
    "train_features = np.array(np.concatenate([X_train, train_features]))\n",
    "train_labels = np.array(np.concatenate([y_train, train_labels]))\n",
    "\n",
    "print(\"Total_X_train Shape = \", train_features.shape)\n",
    "print(\"Total_y_train Shape = \", train_labels.shape)"
   ]
  },
  {
   "cell_type": "code",
   "execution_count": 12,
   "metadata": {},
   "outputs": [
    {
     "name": "stdout",
     "output_type": "stream",
     "text": [
      "Saving data to pickle file...\n",
      "Data cached in pickle file.\n"
     ]
    }
   ],
   "source": [
    "# Save the data for easy access\n",
    "pickle_file = 'train_aug.p'\n",
    "\n",
    "print('Saving data to pickle file...')\n",
    "try:\n",
    "    with open('train_aug.p', 'wb') as pfile:\n",
    "        pickle.dump(\n",
    "            {\n",
    "                'features': train_features,\n",
    "                'labels': train_labels,\n",
    "            },\n",
    "            pfile, pickle.HIGHEST_PROTOCOL)\n",
    "except Exception as e:\n",
    "    print('Unable to save data to', pickle_file, ':', e)\n",
    "    raise\n",
    "\n",
    "print('Data cached in pickle file.')"
   ]
  },
  {
   "cell_type": "code",
   "execution_count": 14,
   "metadata": {},
   "outputs": [
    {
     "name": "stdout",
     "output_type": "stream",
     "text": [
      "Training Set Augmented shape:   X:(107500, 32, 32, 3) , Y:(107500,)\n"
     ]
    }
   ],
   "source": [
    "training_aug_file = \"train_aug.p\"\n",
    "\n",
    "   \n",
    "X_train_aug, y_train_aug = Load_Data_From_File(training_aug_file)\n",
    "print(\"Training Set Augmented shape:   X:{} , Y:{}\".format(X_train_aug.shape,y_train_aug.shape))"
   ]
  },
  {
   "cell_type": "code",
   "execution_count": 15,
   "metadata": {},
   "outputs": [
    {
     "data": {
      "image/png": "[encoded data removed]",
      "text/plain": [
       "<matplotlib.figure.Figure at 0x7fa369481748>"
      ]
     },
     "metadata": {},
     "output_type": "display_data"
    },
    {
     "name": "stdout",
     "output_type": "stream",
     "text": [
      "[ 2500.  2500.  2500.  2500.  2500.  2500.  2500.  2500.  2500.  2500.\n",
      "  2500.  2500.  2500.  2500.  2500.  2500.  2500.  2500.  2500.  2500.\n",
      "  2500.  2500.  2500.  2500.  2500.  2500.  2500.  2500.  2500.  2500.\n",
      "  2500.  2500.  2500.  2500.  2500.  2500.  2500.  2500.  2500.  2500.\n",
      "  2500.  2500.  2500.]\n"
     ]
    }
   ],
   "source": [
    "Augmented_Train_Class_Count = Plot_Histogram(y_train_aug, n_classes, \"Histogram_AugmentedData.png\")\n",
    "print(Augmented_Train_Class_Count)"
   ]
  },
  {
   "cell_type": "markdown",
   "metadata": {},
   "source": [
    "----\n",
    "\n",
    "## Step 2: Design and Test a Model Architecture\n",
    "\n",
    "Design and implement a deep learning model that learns to recognize traffic signs. Train and test your model on the [German Traffic Sign Dataset](http://benchmark.ini.rub.de/?section=gtsrb&subsection=dataset).\n",
    "\n",
    "The LeNet-5 implementation shown in the [classroom](https://classroom.udacity.com/nanodegrees/nd013/parts/fbf77062-5703-404e-b60c-95b78b2f3f9e/modules/6df7ae49-c61c-4bb2-a23e-6527e69209ec/lessons/601ae704-1035-4287-8b11-e2c2716217ad/concepts/d4aca031-508f-4e0b-b493-e7b706120f81) at the end of the CNN lesson is a solid starting point. You'll have to change the number of classes and possibly the preprocessing, but aside from that it's plug and play! \n",
    "\n",
    "With the LeNet-5 solution from the lecture, you should expect a validation set accuracy of about 0.89. To meet specifications, the validation set accuracy will need to be at least 0.93. It is possible to get an even higher accuracy, but 0.93 is the minimum for a successful project submission. \n",
    "\n",
    "There are various aspects to consider when thinking about this problem:\n",
    "\n",
    "- Neural network architecture (is the network over or underfitting?)\n",
    "- Play around preprocessing techniques (normalization, rgb to grayscale, etc)\n",
    "- Number of examples per label (some have more than others).\n",
    "- Generate fake data.\n",
    "\n",
    "Here is an example of a [published baseline model on this problem](http://yann.lecun.com/exdb/publis/pdf/sermanet-ijcnn-11.pdf). It's not required to be familiar with the approach used in the paper but, it's good practice to try to read papers like these."
   ]
  },
  {
   "cell_type": "markdown",
   "metadata": {},
   "source": [
    "### Pre-process the Data Set (normalization, grayscale, etc.)"
   ]
  },
  {
   "cell_type": "markdown",
   "metadata": {},
   "source": [
    "Minimally, the image data should be normalized so that the data has mean zero and equal variance. For image data, `(pixel - 128)/ 128` is a quick way to approximately normalize the data and can be used in this project. \n",
    "\n",
    "Other pre-processing steps are optional. You can try different techniques to see if it improves performance. \n",
    "\n",
    "Use the code cell (or multiple code cells, if necessary) to implement the first step of your project."
   ]
  },
  {
   "cell_type": "code",
   "execution_count": null,
   "metadata": {
    "collapsed": true
   },
   "outputs": [],
   "source": [
    "### Preprocess the data here. It is required to normalize the data. Other preprocessing steps could include \n",
    "### converting to grayscale, etc.\n",
    "### Feel free to use as many code cells as needed.\n",
    "\n",
    "\n",
    "# Get a random image to display\n",
    "index = random.randint(0, len(y_train))\n",
    "image = X_train[index].squeeze()\n",
    "print(index)\n",
    "\n",
    "# Display the random image\n",
    "plt.figure(figsize=(1,1))\n",
    "plt.imshow(image)\n",
    "print(y_train[index])\n",
    "print(SignNames[ClassIDs.index(str(y_train[index]))])\n",
    "\n",
    "# Find out which option suits for optimal learning\n",
    "# Preprocess data to convert to grayscale\n",
    "X_train_gry = np.sum(X_train/3, axis=3, keepdims=True)\n",
    "plt.figure(figsize=(1,1))\n",
    "plt.imshow(X_train_gry[index].squeeze(), cmap='gray')\n",
    "\n",
    "# Normalize to grayscale image - mean method\n",
    "X_train_normalized = (X_train_gry - 128)/128\n",
    "plt.figure(figsize=(1,1))\n",
    "plt.imshow(X_train_normalized[index].squeeze() , cmap='gray')\n",
    "\n",
    "# Normalize to grayscale - human visualization method\n",
    "X_train_gray1 = np.dot(X_train[...,:3], [0.299, 0.587, 0.114])\n",
    "plt.figure(figsize=(1,1))\n",
    "plt.imshow(X_train_gray1[index].squeeze(), cmap='gray')\n",
    "\n",
    "# Normalize - CV2 Equalize Histogram \n",
    "X_train_normalized_cv2 = X_train\n",
    "#cv2.cvtColor(X_train, X_train_normalized_cv2, cv2.COLOR_RGB2GRAY)\n",
    "X_train_normalized_cv2 = cv2.cvtColor(X_train_normalized_cv2[index],cv2.COLOR_RGB2GRAY)\n",
    "#X_train_normalized_cv2[index] \n",
    "X_train_normalized_cv2 = cv2.equalizeHist(X_train_normalized_cv2)\n",
    "plt.figure(figsize=(1,1))\n",
    "plt.imshow(X_train_normalized_cv2, cmap='gray')"
   ]
  },
  {
   "cell_type": "code",
   "execution_count": null,
   "metadata": {
    "collapsed": true
   },
   "outputs": [],
   "source": [
    "\n",
    "#X_train_mod = X_train\n",
    "#X_valid_mod = X_valid\n",
    "#X_test_mod = X_test\n",
    "\n",
    "X_train_Norm = np.ndarray([len(X_train),len(X_train[0]),len(X_train[0][0]),1])\n",
    "# Comment above line and uncomment below line for training with Augmented data\n",
    "#X_train_Norm = np.ndarray([len(X_train_aug),len(X_train_aug[0]),len(X_train_aug[0][0]),1])\n",
    "\n",
    "X_valid_Norm = np.ndarray([len(X_valid),len(X_valid[0]),len(X_valid[0][0]),1])\n",
    "X_test_Norm = np.ndarray([len(X_test),len(X_test[0]),len(X_test[0][0]),1])\n",
    "\n",
    "print(\"Original Image data shape =\", X_train.shape)\n",
    "print(\"Norm Image data shape =\", X_train_Norm.shape)\n",
    "\n",
    "\n",
    "def Normalize_ImageData(Data):\n",
    "    # Assuming Data is of lxwxhxd dimension\n",
    "    Norm_Data = np.ndarray([len(Data),len(Data[0]),len(Data[0][0]),1])\n",
    "#    Normalized_Data_cv2 = np.ndarray([len(Data),len(Data[0]),len(Data[0][0]),1])\n",
    "#     # Normalize - CV2 Equalize Histogram \n",
    "#     Normalized_Data_cv2 = Data\n",
    "#    cv2.equalizeHist(Data, Normalized_Data_cv2)\n",
    "#      for i in range(len(Data)):\n",
    "#          img = Data[i]\n",
    "#          img = cv2.cvtColor(img,cv2.COLOR_RGB2GRAY)\n",
    "#          equ = cv2.equalizeHist(img)\n",
    "#          Norm_Data[i] = np.expand_dims(equ,axis=2)\n",
    "\n",
    "#    Norm_Data = np.dot(Data[...,:3], [0.299, 0.587, 0.114])\n",
    "    Norm_Data = np.dot(Data[...,:3], [0.333, 0.333, 0.333])\n",
    "    Norm_Data = np.expand_dims(Norm_Data,axis=3)\n",
    "    Norm_Data = (Norm_Data - 128)/128\n",
    "    return(Norm_Data)\n",
    "#    return(Normalized_Data_cv2)\n",
    "\n",
    "X_train_Norm = Normalize_ImageData(X_train)\n",
    "#X_train_Norm = Normalize_ImageData(X_train_aug)\n",
    "print(\"Modified Norm Image data shape =\", X_train_Norm.shape)\n",
    "\n",
    "X_valid_Norm = Normalize_ImageData(X_valid)\n",
    "print(\"Modified Norm Image data shape =\", X_valid_Norm.shape)\n",
    "\n",
    "X_test_Norm = Normalize_ImageData(X_test)\n",
    "print(\"Modified Norm Image data shape =\", X_test_Norm.shape)\n",
    "\n",
    "#Plot a random image to check the normalized data\n",
    "plt.figure(figsize=(1,1))\n",
    "plt.imshow(X_train_Norm[4500].squeeze() , cmap='gray')\n",
    "\n",
    "#Print mean of Normalized data\n",
    "print(np.mean(X_train_Norm))\n",
    "print(np.mean(X_valid_Norm))\n",
    "print(np.mean(X_test_Norm))\n"
   ]
  },
  {
   "cell_type": "markdown",
   "metadata": {},
   "source": [
    "### Model Architecture"
   ]
  },
  {
   "cell_type": "code",
   "execution_count": null,
   "metadata": {
    "collapsed": true
   },
   "outputs": [],
   "source": [
    "import logging\n",
    "logging.basicConfig(filename='traffic_sign_classifier_logs.txt', level=logging.DEBUG, format='%(asctime)s - %(levelname)s - %(message)s')\n",
    "logging.debug('This is a log message.')"
   ]
  },
  {
   "cell_type": "code",
   "execution_count": null,
   "metadata": {
    "collapsed": true
   },
   "outputs": [],
   "source": [
    "### Define your architecture here.\n",
    "### Feel free to use as many code cells as needed.\n",
    "import tensorflow as tf\n",
    "\n",
    "EPOCHS = 25\n",
    "BATCH_SIZE = 128"
   ]
  },
  {
   "cell_type": "code",
   "execution_count": null,
   "metadata": {
    "collapsed": true
   },
   "outputs": [],
   "source": [
    "from tensorflow.contrib.layers import flatten\n",
    "\n",
    "mu = 0\n",
    "sigma = 0.1\n",
    "\n",
    "def LeNet(x):    \n",
    "    # Arguments used for tf.truncated_normal, randomly defines variables for the weights and biases for each layer\n",
    "        \n",
    "    # SOLUTION: Layer 1: Convolutional. Input = 32x32x1. Output = 28x28x6.\n",
    "    conv1_W = tf.Variable(tf.truncated_normal(shape=(5, 5, 1, 6), mean = mu, stddev = sigma))\n",
    "    conv1_b = tf.Variable(tf.zeros(6))\n",
    "    conv1   = tf.nn.conv2d(x, conv1_W, strides=[1, 1, 1, 1], padding='VALID') + conv1_b\n",
    "\n",
    "    # SOLUTION: Activation.\n",
    "    conv1 = tf.nn.relu(conv1)\n",
    "\n",
    "    # SOLUTION: Pooling. Input = 28x28x6. Output = 14x14x6.\n",
    "    conv1 = tf.nn.max_pool(conv1, ksize=[1, 2, 2, 1], strides=[1, 2, 2, 1], padding='VALID')\n",
    "\n",
    "    # SOLUTION: Layer 2: Convolutional. Output = 10x10x16.\n",
    "    conv2_W = tf.Variable(tf.truncated_normal(shape=(5, 5, 6, 16), mean = mu, stddev = sigma))\n",
    "    conv2_b = tf.Variable(tf.zeros(16))\n",
    "    conv2   = tf.nn.conv2d(conv1, conv2_W, strides=[1, 1, 1, 1], padding='VALID') + conv2_b\n",
    "    \n",
    "    # SOLUTION: Activation.\n",
    "    conv2 = tf.nn.relu(conv2)\n",
    "\n",
    "    # SOLUTION: Pooling. Input = 10x10x16. Output = 5x5x16.\n",
    "    conv2 = tf.nn.max_pool(conv2, ksize=[1, 2, 2, 1], strides=[1, 2, 2, 1], padding='VALID')\n",
    "\n",
    "    # SOLUTION: Flatten. Input = 5x5x16. Output = 400.\n",
    "    fc0   = flatten(conv2)\n",
    "    \n",
    "    # SOLUTION: Layer 3: Fully Connected. Input = 400. Output = 120.\n",
    "    fc1_W = tf.Variable(tf.truncated_normal(shape=(400, 120), mean = mu, stddev = sigma))\n",
    "    fc1_b = tf.Variable(tf.zeros(120))\n",
    "    fc1   = tf.matmul(fc0, fc1_W) + fc1_b\n",
    "    \n",
    "    # SOLUTION: Activation.\n",
    "    fc1    = tf.nn.relu(fc1)\n",
    "\n",
    "    # SOLUTION: Layer 4: Fully Connected. Input = 120. Output = 84.\n",
    "    fc2_W  = tf.Variable(tf.truncated_normal(shape=(120, 84), mean = mu, stddev = sigma))\n",
    "    fc2_b  = tf.Variable(tf.zeros(84))\n",
    "    fc2    = tf.matmul(fc1, fc2_W) + fc2_b\n",
    "    \n",
    "    # SOLUTION: Activation.\n",
    "    fc2    = tf.nn.relu(fc2)\n",
    "    \n",
    "    # Added a drop out\n",
    "    fc2_d   = tf.nn.dropout(fc2, keep_prob)\n",
    "\n",
    "    # SOLUTION: Layer 5: Fully Connected. Input = 84. Output = 43.\n",
    "    fc3_W  = tf.Variable(tf.truncated_normal(shape=(84, 43), mean = mu, stddev = sigma))\n",
    "    fc3_b  = tf.Variable(tf.zeros(43))\n",
    "    #logits = tf.matmul(fc2, fc3_W) + fc3_b\n",
    "    logits = tf.matmul(fc2_d, fc3_W) + fc3_b\n",
    "    \n",
    "    return logits"
   ]
  },
  {
   "cell_type": "code",
   "execution_count": null,
   "metadata": {
    "collapsed": true
   },
   "outputs": [],
   "source": []
  },
  {
   "cell_type": "markdown",
   "metadata": {},
   "source": [
    "### Train, Validate and Test the Model"
   ]
  },
  {
   "cell_type": "markdown",
   "metadata": {},
   "source": [
    "A validation set can be used to assess how well the model is performing. A low accuracy on the training and validation\n",
    "sets imply underfitting. A high accuracy on the training set but low accuracy on the validation set implies overfitting."
   ]
  },
  {
   "cell_type": "code",
   "execution_count": null,
   "metadata": {
    "collapsed": true
   },
   "outputs": [],
   "source": [
    "### Train your model here.\n",
    "### Calculate and report the accuracy on the training and validation set.\n",
    "### Once a final model architecture is selected, \n",
    "### the accuracy on the test set should be calculated and reported as well.\n",
    "### Feel free to use as many code cells as needed.\n",
    "\n",
    "x = tf.placeholder(tf.float32, (None, 32, 32, 1))\n",
    "y = tf.placeholder(tf.int32, (None))\n",
    "one_hot_y = tf.one_hot(y, 43)\n",
    "keep_prob = tf.placeholder(tf.float32)"
   ]
  },
  {
   "cell_type": "code",
   "execution_count": null,
   "metadata": {
    "collapsed": true
   },
   "outputs": [],
   "source": [
    "rate = 0.001\n",
    "\n",
    "logits = LeNet(x)\n",
    "cross_entropy = tf.nn.softmax_cross_entropy_with_logits(labels=one_hot_y, logits=logits)\n",
    "loss_operation = tf.reduce_mean(cross_entropy)\n",
    "optimizer = tf.train.AdamOptimizer(learning_rate = rate)\n",
    "training_operation = optimizer.minimize(loss_operation)"
   ]
  },
  {
   "cell_type": "code",
   "execution_count": null,
   "metadata": {
    "collapsed": true
   },
   "outputs": [],
   "source": [
    "correct_prediction = tf.equal(tf.argmax(logits, 1), tf.argmax(one_hot_y, 1))\n",
    "accuracy_operation = tf.reduce_mean(tf.cast(correct_prediction, tf.float32))\n",
    "saver = tf.train.Saver()\n",
    "\n",
    "def evaluate(X_data, y_data):\n",
    "    num_examples = len(X_data)\n",
    "    total_accuracy = 0\n",
    "    sess = tf.get_default_session()\n",
    "    for offset in range(0, num_examples, BATCH_SIZE):\n",
    "        batch_x, batch_y = X_data[offset:offset+BATCH_SIZE], y_data[offset:offset+BATCH_SIZE]\n",
    "        accuracy = sess.run(accuracy_operation, feed_dict={x: batch_x, y: batch_y, keep_prob: 1.0})\n",
    "        total_accuracy += (accuracy * len(batch_x))\n",
    "    return total_accuracy / num_examples"
   ]
  },
  {
   "cell_type": "code",
   "execution_count": null,
   "metadata": {
    "collapsed": true
   },
   "outputs": [],
   "source": [
    "from sklearn.utils import shuffle\n",
    "\n",
    "def TrainingSessionRun(Features_Train,Labels_Train, Features_Valid, Labels_Valid):\n",
    "    with tf.Session() as sess:\n",
    "        sess.run(tf.global_variables_initializer())\n",
    "        num_examples = len(Features_Train)\n",
    "\n",
    "        print(\"Training...\")\n",
    "        logging.debug(\"Training...EPOCH: {} , BATCH_SIZE: {} , LEARNING RATE: {} , mu: {}, sigma: {}\\n\". format(EPOCHS,BATCH_SIZE, rate, mu, sigma))\n",
    "        print()\n",
    "        for i in range(EPOCHS):\n",
    "            Features_Train, Labels_Train = shuffle(Features_Train, Labels_Train)\n",
    "            for offset in range(0, num_examples, BATCH_SIZE):\n",
    "                end = offset + BATCH_SIZE\n",
    "                batch_x, batch_y = Features_Train[offset:end], Labels_Train[offset:end]\n",
    "                sess.run(training_operation, feed_dict={x: batch_x, y: batch_y, keep_prob: 0.5}, )\n",
    "\n",
    "            validation_accuracy = evaluate(Features_Valid, Labels_Valid)\n",
    "            #training_accuracy = evaluate(Features_Train, Labels_Train)\n",
    "\n",
    "            print(\"EPOCH {} ...\".format(i+1))\n",
    "            print(\"Validation Accuracy = {:.3f}\".format(validation_accuracy))\n",
    "            logging.debug(\"EPOCH {} ...\\n\".format(i+1))\n",
    "            logging.debug(\"Validation Accuracy = {:.3f}\\n\".format(validation_accuracy))\n",
    "            #logging.debug(\"Training Accuracy = {:.3f}\\n\".format(training_accuracy))\n",
    "            print()\n",
    "\n",
    "        saver.save(sess, './lenet')\n",
    "        print(\"Model saved\")\n",
    "    return"
   ]
  },
  {
   "cell_type": "code",
   "execution_count": null,
   "metadata": {
    "collapsed": true
   },
   "outputs": [],
   "source": [
    "#Features_Train = Normalize_ImageData(X_train)\n",
    "#Labels_Train = y_train\n",
    "Features_Train = Normalize_ImageData(X_train_aug)\n",
    "Labels_Train = y_train_aug\n",
    "Features_Valid = X_valid_Norm\n",
    "Labels_Valid = y_valid\n",
    "TrainingSessionRun(Features_Train,Labels_Train,Features_Valid ,Labels_Valid)"
   ]
  },
  {
   "cell_type": "code",
   "execution_count": null,
   "metadata": {
    "collapsed": true
   },
   "outputs": [],
   "source": [
    "with tf.Session() as sess:\n",
    "    saver.restore(sess, tf.train.latest_checkpoint('.'))\n",
    "\n",
    "    test_accuracy = evaluate(X_test_Norm, y_test)\n",
    "    print(\"Test Accuracy = {:.3f}\".format(test_accuracy))\n",
    "    logging.debug(\"Test Accuracy = {:.3f}\\n\".format(test_accuracy))"
   ]
  },
  {
   "cell_type": "code",
   "execution_count": null,
   "metadata": {
    "collapsed": true
   },
   "outputs": [],
   "source": [
    "from sklearn.metrics import confusion_matrix\n",
    "from sklearn import metrics\n",
    "import itertools"
   ]
  },
  {
   "cell_type": "code",
   "execution_count": null,
   "metadata": {
    "collapsed": true
   },
   "outputs": [],
   "source": [
    "def plot_confusion_matrix(cm, classes,\n",
    "                          normalize=False,\n",
    "                          title='Confusion matrix',\n",
    "                          cmap=plt.cm.Blues):\n",
    "    \"\"\"\n",
    "    This function prints and plots the confusion matrix.\n",
    "    Normalization can be applied by setting `normalize=True`.\n",
    "    \"\"\"\n",
    "    if normalize:\n",
    "        cm = cm.astype('float') / cm.sum(axis=1)[:, np.newaxis]\n",
    "        print(\"Normalized confusion matrix\")\n",
    "    else:\n",
    "        print('Confusion matrix, without normalization')\n",
    "\n",
    "    print(cm)\n",
    "\n",
    "    plt.imshow(cm, interpolation='nearest', cmap=cmap)\n",
    "    plt.title(title)\n",
    "    plt.colorbar()\n",
    "    tick_marks = np.arange(len(classes))\n",
    "    plt.xticks(tick_marks, classes, rotation=90)\n",
    "    plt.yticks(tick_marks, classes)\n",
    "\n",
    "    fmt = '.2f' if normalize else 'd'\n",
    "    thresh = cm.max() / 2.\n",
    "    for i, j in itertools.product(range(cm.shape[0]), range(cm.shape[1])):\n",
    "        plt.text(j, i, format(cm[i, j], fmt),\n",
    "                 horizontalalignment=\"center\",\n",
    "                 color=\"white\" if cm[i, j] > thresh else \"black\")\n",
    "\n",
    "    plt.tight_layout()\n",
    "    plt.ylabel('True label')\n",
    "    plt.xlabel('Predicted label')\n",
    "\n",
    "    "
   ]
  },
  {
   "cell_type": "code",
   "execution_count": null,
   "metadata": {
    "collapsed": true
   },
   "outputs": [],
   "source": [
    "\n",
    "y_pred = tf.argmax(logits, 1)\n",
    "\n",
    "with tf.Session() as sess:\n",
    "    saver.restore(sess, tf.train.latest_checkpoint('.'))\n",
    "    num_examples = len(X_test_Norm)\n",
    "    sess = tf.get_default_session()\n",
    "    offset=random.randint(0,num_examples-2001)\n",
    "    y_p = tf.argmax(logits, 1)\n",
    "    X_test_Norm, y_test = shuffle(X_test_Norm, y_test)\n",
    "    batch_x, batch_y = X_test_Norm[offset:offset+2000], y_test[offset:offset+2000]\n",
    "    y_pred_cm = sess.run(y_pred, feed_dict={x: batch_x, y: batch_y, keep_prob: 1.0})\n",
    "\n",
    "y_true = batch_y\n",
    "print(\"confusion_matrix\")\n",
    "cnf_matrix = metrics.confusion_matrix(y_true, y_pred_cm)\n",
    "print(cnf_matrix)\n",
    "\n",
    "# Plot non-normalized confusion matrix\n",
    "plt.figure(figsize=(25,25))\n",
    "plot_confusion_matrix(cnf_matrix, classes=SignNames,\n",
    "                      title='Confusion matrix, without normalization')\n",
    "\n",
    "# Plot normalized confusion matrix\n",
    "plt.figure(figsize=(25,25))\n",
    "plot_confusion_matrix(cnf_matrix, classes=SignNames, normalize=True,\n",
    "                      title='Normalized confusion matrix')\n",
    "\n",
    "plt.savefig(\"ConfusionMatrix.png\", bbox_inches='tight')\n",
    "plt.show()\n"
   ]
  },
  {
   "cell_type": "markdown",
   "metadata": {},
   "source": [
    "---\n",
    "\n",
    "## Step 3: Test a Model on New Images\n",
    "\n",
    "To give yourself more insight into how your model is working, download at least five pictures of German traffic signs from the web and use your model to predict the traffic sign type.\n",
    "\n",
    "You may find `signnames.csv` useful as it contains mappings from the class id (integer) to the actual sign name."
   ]
  },
  {
   "cell_type": "markdown",
   "metadata": {},
   "source": [
    "### Load and Output the Images"
   ]
  },
  {
   "cell_type": "code",
   "execution_count": null,
   "metadata": {
    "collapsed": true
   },
   "outputs": [],
   "source": [
    "### Load the images and plot them here.\n",
    "### Feel free to use as many code cells as needed."
   ]
  },
  {
   "cell_type": "markdown",
   "metadata": {},
   "source": [
    "### Predict the Sign Type for Each Image"
   ]
  },
  {
   "cell_type": "code",
   "execution_count": null,
   "metadata": {
    "collapsed": true
   },
   "outputs": [],
   "source": [
    "### Run the predictions here and use the model to output the prediction for each image.\n",
    "### Make sure to pre-process the images with the same pre-processing pipeline used earlier.\n",
    "### Feel free to use as many code cells as needed."
   ]
  },
  {
   "cell_type": "markdown",
   "metadata": {},
   "source": [
    "### Analyze Performance"
   ]
  },
  {
   "cell_type": "code",
   "execution_count": null,
   "metadata": {
    "collapsed": true
   },
   "outputs": [],
   "source": [
    "### Calculate the accuracy for these 5 new images. \n",
    "### For example, if the model predicted 1 out of 5 signs correctly, it's 20% accurate on these new images."
   ]
  },
  {
   "cell_type": "markdown",
   "metadata": {},
   "source": [
    "### Output Top 5 Softmax Probabilities For Each Image Found on the Web"
   ]
  },
  {
   "cell_type": "markdown",
   "metadata": {},
   "source": [
    "For each of the new images, print out the model's softmax probabilities to show the **certainty** of the model's predictions (limit the output to the top 5 probabilities for each image). [`tf.nn.top_k`](https://www.tensorflow.org/versions/r0.12/api_docs/python/nn.html#top_k) could prove helpful here. \n",
    "\n",
    "The example below demonstrates how tf.nn.top_k can be used to find the top k predictions for each image.\n",
    "\n",
    "`tf.nn.top_k` will return the values and indices (class ids) of the top k predictions. So if k=3, for each sign, it'll return the 3 largest probabilities (out of a possible 43) and the correspoding class ids.\n",
    "\n",
    "Take this numpy array as an example. The values in the array represent predictions. The array contains softmax probabilities for five candidate images with six possible classes. `tf.nn.top_k` is used to choose the three classes with the highest probability:\n",
    "\n",
    "```\n",
    "# (5, 6) array\n",
    "a = np.array([[ 0.24879643,  0.07032244,  0.12641572,  0.34763842,  0.07893497,\n",
    "         0.12789202],\n",
    "       [ 0.28086119,  0.27569815,  0.08594638,  0.0178669 ,  0.18063401,\n",
    "         0.15899337],\n",
    "       [ 0.26076848,  0.23664738,  0.08020603,  0.07001922,  0.1134371 ,\n",
    "         0.23892179],\n",
    "       [ 0.11943333,  0.29198961,  0.02605103,  0.26234032,  0.1351348 ,\n",
    "         0.16505091],\n",
    "       [ 0.09561176,  0.34396535,  0.0643941 ,  0.16240774,  0.24206137,\n",
    "         0.09155967]])\n",
    "```\n",
    "\n",
    "Running it through `sess.run(tf.nn.top_k(tf.constant(a), k=3))` produces:\n",
    "\n",
    "```\n",
    "TopKV2(values=array([[ 0.34763842,  0.24879643,  0.12789202],\n",
    "       [ 0.28086119,  0.27569815,  0.18063401],\n",
    "       [ 0.26076848,  0.23892179,  0.23664738],\n",
    "       [ 0.29198961,  0.26234032,  0.16505091],\n",
    "       [ 0.34396535,  0.24206137,  0.16240774]]), indices=array([[3, 0, 5],\n",
    "       [0, 1, 4],\n",
    "       [0, 5, 1],\n",
    "       [1, 3, 5],\n",
    "       [1, 4, 3]], dtype=int32))\n",
    "```\n",
    "\n",
    "Looking just at the first row we get `[ 0.34763842,  0.24879643,  0.12789202]`, you can confirm these are the 3 largest probabilities in `a`. You'll also notice `[3, 0, 5]` are the corresponding indices."
   ]
  },
  {
   "cell_type": "code",
   "execution_count": null,
   "metadata": {
    "collapsed": true
   },
   "outputs": [],
   "source": [
    "### Print out the top five softmax probabilities for the predictions on the German traffic sign images found on the web. \n",
    "### Feel free to use as many code cells as needed."
   ]
  },
  {
   "cell_type": "markdown",
   "metadata": {},
   "source": [
    "### Project Writeup\n",
    "\n",
    "Once you have completed the code implementation, document your results in a project writeup using this [template](https://github.com/udacity/CarND-Traffic-Sign-Classifier-Project/blob/master/writeup_template.md) as a guide. The writeup can be in a markdown or pdf file. "
   ]
  },
  {
   "cell_type": "markdown",
   "metadata": {},
   "source": [
    "> **Note**: Once you have completed all of the code implementations and successfully answered each question above, you may finalize your work by exporting the iPython Notebook as an HTML document. You can do this by using the menu above and navigating to  \\n\",\n",
    "    \"**File -> Download as -> HTML (.html)**. Include the finished document along with this notebook as your submission."
   ]
  },
  {
   "cell_type": "markdown",
   "metadata": {},
   "source": [
    "---\n",
    "\n",
    "## Step 4 (Optional): Visualize the Neural Network's State with Test Images\n",
    "\n",
    " This Section is not required to complete but acts as an additional excersise for understaning the output of a neural network's weights. While neural networks can be a great learning device they are often referred to as a black box. We can understand what the weights of a neural network look like better by plotting their feature maps. After successfully training your neural network you can see what it's feature maps look like by plotting the output of the network's weight layers in response to a test stimuli image. From these plotted feature maps, it's possible to see what characteristics of an image the network finds interesting. For a sign, maybe the inner network feature maps react with high activation to the sign's boundary outline or to the contrast in the sign's painted symbol.\n",
    "\n",
    " Provided for you below is the function code that allows you to get the visualization output of any tensorflow weight layer you want. The inputs to the function should be a stimuli image, one used during training or a new one you provided, and then the tensorflow variable name that represents the layer's state during the training process, for instance if you wanted to see what the [LeNet lab's](https://classroom.udacity.com/nanodegrees/nd013/parts/fbf77062-5703-404e-b60c-95b78b2f3f9e/modules/6df7ae49-c61c-4bb2-a23e-6527e69209ec/lessons/601ae704-1035-4287-8b11-e2c2716217ad/concepts/d4aca031-508f-4e0b-b493-e7b706120f81) feature maps looked like for it's second convolutional layer you could enter conv2 as the tf_activation variable.\n",
    "\n",
    "For an example of what feature map outputs look like, check out NVIDIA's results in their paper [End-to-End Deep Learning for Self-Driving Cars](https://devblogs.nvidia.com/parallelforall/deep-learning-self-driving-cars/) in the section Visualization of internal CNN State. NVIDIA was able to show that their network's inner weights had high activations to road boundary lines by comparing feature maps from an image with a clear path to one without. Try experimenting with a similar test to show that your trained network's weights are looking for interesting features, whether it's looking at differences in feature maps from images with or without a sign, or even what feature maps look like in a trained network vs a completely untrained one on the same sign image.\n",
    "\n",
    "<figure>\n",
    " <img src=\"visualize_cnn.png\" width=\"380\" alt=\"Combined Image\" />\n",
    " <figcaption>\n",
    " <p></p> \n",
    " <p style=\"text-align: center;\"> Your output should look something like this (above)</p> \n",
    " </figcaption>\n",
    "</figure>\n",
    " <p></p> \n"
   ]
  },
  {
   "cell_type": "code",
   "execution_count": null,
   "metadata": {
    "collapsed": true
   },
   "outputs": [],
   "source": [
    "### Visualize your network's feature maps here.\n",
    "### Feel free to use as many code cells as needed.\n",
    "\n",
    "# image_input: the test image being fed into the network to produce the feature maps\n",
    "# tf_activation: should be a tf variable name used during your training procedure that represents the calculated state of a specific weight layer\n",
    "# activation_min/max: can be used to view the activation contrast in more detail, by default matplot sets min and max to the actual min and max values of the output\n",
    "# plt_num: used to plot out multiple different weight feature map sets on the same block, just extend the plt number for each new feature map entry\n",
    "\n",
    "def outputFeatureMap(image_input, tf_activation, activation_min=-1, activation_max=-1 ,plt_num=1):\n",
    "    # Here make sure to preprocess your image_input in a way your network expects\n",
    "    # with size, normalization, ect if needed\n",
    "    # image_input =\n",
    "    # Note: x should be the same name as your network's tensorflow data placeholder variable\n",
    "    # If you get an error tf_activation is not defined it may be having trouble accessing the variable from inside a function\n",
    "    activation = tf_activation.eval(session=sess,feed_dict={x : image_input})\n",
    "    featuremaps = activation.shape[3]\n",
    "    plt.figure(plt_num, figsize=(15,15))\n",
    "    for featuremap in range(featuremaps):\n",
    "        plt.subplot(6,8, featuremap+1) # sets the number of feature maps to show on each row and column\n",
    "        plt.title('FeatureMap ' + str(featuremap)) # displays the feature map number\n",
    "        if activation_min != -1 & activation_max != -1:\n",
    "            plt.imshow(activation[0,:,:, featuremap], interpolation=\"nearest\", vmin =activation_min, vmax=activation_max, cmap=\"gray\")\n",
    "        elif activation_max != -1:\n",
    "            plt.imshow(activation[0,:,:, featuremap], interpolation=\"nearest\", vmax=activation_max, cmap=\"gray\")\n",
    "        elif activation_min !=-1:\n",
    "            plt.imshow(activation[0,:,:, featuremap], interpolation=\"nearest\", vmin=activation_min, cmap=\"gray\")\n",
    "        else:\n",
    "            plt.imshow(activation[0,:,:, featuremap], interpolation=\"nearest\", cmap=\"gray\")"
   ]
  }
 ],
 "metadata": {
  "anaconda-cloud": {},
  "kernelspec": {
   "display_name": "Python 3",
   "language": "python",
   "name": "python3"
  },
  "language_info": {
   "codemirror_mode": {
    "name": "ipython",
    "version": 3
   },
   "file_extension": ".py",
   "mimetype": "text/x-python",
   "name": "python",
   "nbconvert_exporter": "python",
   "pygments_lexer": "ipython3",
   "version": "3.6.2"
  },
  "widgets": {
   "state": {},
   "version": "1.1.2"
  }
 },
 "nbformat": 4,
 "nbformat_minor": 1
}
